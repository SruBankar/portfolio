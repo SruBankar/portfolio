{
  "nbformat": 4,
  "nbformat_minor": 0,
  "metadata": {
    "colab": {
      "provenance": [],
      "authorship_tag": "ABX9TyPPzizFd2DQoXBVc/51Qf/Q",
      "include_colab_link": true
    },
    "kernelspec": {
      "name": "python3",
      "display_name": "Python 3"
    },
    "language_info": {
      "name": "python"
    }
  },
  "cells": [
    {
      "cell_type": "markdown",
      "metadata": {
        "id": "view-in-github",
        "colab_type": "text"
      },
      "source": [
        "<a href=\"https://colab.research.google.com/github/SruBankar/portfolio/blob/main/Copy_of_Untitled1.ipynb\" target=\"_parent\"><img src=\"https://colab.research.google.com/assets/colab-badge.svg\" alt=\"Open In Colab\"/></a>"
      ]
    },
    {
      "cell_type": "code",
      "execution_count": null,
      "metadata": {
        "id": "cciYi4VUuPz8"
      },
      "outputs": [],
      "source": [
        "#Problem 1: Load the CSV file into a Pandas DataFrame.\n",
        "\n",
        "import pandas as pd\n",
        "\n",
        "df = pd.read_csv('school_details.csv')"
      ]
    },
    {
      "cell_type": "code",
      "source": [
        "#Problem 2: Display the first 5 rows of the DataFrame. Solution:\n",
        "\n",
        "print(df.head(5))"
      ],
      "metadata": {
        "colab": {
          "base_uri": "https://localhost:8080/",
          "height": 172
        },
        "id": "WT7jwqWQukjf",
        "outputId": "cfacc7e5-eced-4cfc-8e37-41c95102edb8"
      },
      "execution_count": null,
      "outputs": [
        {
          "output_type": "error",
          "ename": "SyntaxError",
          "evalue": "ignored",
          "traceback": [
            "\u001b[0;36m  File \u001b[0;32m\"<ipython-input-1-f85e5d2d170e>\"\u001b[0;36m, line \u001b[0;32m1\u001b[0m\n\u001b[0;31m    Problem 2: Display the first 5 rows of the DataFrame.\u001b[0m\n\u001b[0m            ^\u001b[0m\n\u001b[0;31mSyntaxError\u001b[0m\u001b[0;31m:\u001b[0m invalid syntax\n"
          ]
        }
      ]
    },
    {
      "cell_type": "code",
      "source": [],
      "metadata": {
        "id": "2iznPEvs0tcc"
      },
      "execution_count": null,
      "outputs": []
    },
    {
      "cell_type": "code",
      "source": [
        "#Problem 3: Check the number of rows and columns in the DataFrame. Solution:\n",
        "\n",
        "print(\"Number of rows:\", len(df))\n",
        "print(\"Number of columns:\", len(df.columns))"
      ],
      "metadata": {
        "id": "0IWh_am0uwOr"
      },
      "execution_count": null,
      "outputs": []
    },
    {
      "cell_type": "code",
      "source": [
        "#Problem 4: Select a specific column, such as 'School Name', from the DataFrame.\n",
        "\n",
        "\n",
        "selected_column = df['School Name']"
      ],
      "metadata": {
        "id": "dRGSGH1Zu6l6"
      },
      "execution_count": null,
      "outputs": []
    },
    {
      "cell_type": "code",
      "source": [
        "\n",
        "#Problem 5: Filter the DataFrame to display schools only in a specific city, e.g., 'New York'.\n",
        "\n",
        "\n",
        "filtered_df = df[df['City'] == 'New York']"
      ],
      "metadata": {
        "id": "okNS2i_ovEBY"
      },
      "execution_count": null,
      "outputs": []
    },
    {
      "cell_type": "code",
      "source": [
        "#Problem 6: Sort the DataFrame in ascending order based on the 'Enrollment' column.\n",
        "\n",
        "\n",
        "sorted_df = df.sort_values('Enrollment')"
      ],
      "metadata": {
        "id": "ck4LAbkXvO4b"
      },
      "execution_count": null,
      "outputs": []
    },
    {
      "cell_type": "code",
      "source": [
        "#Problem 7: Group the DataFrame by 'School Type' and calculate the average 'GPA'.\n",
        "\n",
        "avg_gpa_by_type = df.groupby('School Type')['GPA'].mean()"
      ],
      "metadata": {
        "id": "I5wL7jeRvZPf"
      },
      "execution_count": null,
      "outputs": []
    },
    {
      "cell_type": "code",
      "source": [
        "\n",
        "#Problem 8: Replace missing values (NaN) in the 'SAT Score' column with the mean value.\n",
        "\n",
        "\n",
        "\n",
        "mean_sat_score = df['SAT Score'].mean()\n",
        "df['SAT Score'] = df['SAT Score'].fillna(mean_sat_score)"
      ],
      "metadata": {
        "id": "70ycqiXZvg3B"
      },
      "execution_count": null,
      "outputs": []
    },
    {
      "cell_type": "code",
      "source": [
        "#Problem 9: Calculate the maximum 'Enrollment' among all schools.\n",
        "\n",
        "max_enrollment = df['Enrollment'].max()"
      ],
      "metadata": {
        "id": "uRVESz1Ovp4r"
      },
      "execution_count": null,
      "outputs": []
    },
    {
      "cell_type": "code",
      "source": [
        "\n",
        "#Export the DataFrame to a new CSV file called 'school_summary.csv'.\n",
        "\n",
        "\n",
        "df.to_csv('school_summary.csv', index=False)"
      ],
      "metadata": {
        "id": "qZOpXl1-vxKX"
      },
      "execution_count": null,
      "outputs": []
    },
    {
      "cell_type": "code",
      "source": [],
      "metadata": {
        "id": "cWm8x7XHv5FM"
      },
      "execution_count": null,
      "outputs": []
    }
  ]
}